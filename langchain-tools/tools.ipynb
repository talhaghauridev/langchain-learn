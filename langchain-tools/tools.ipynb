{
 "cells": [
  {
   "cell_type": "markdown",
   "id": "3c05622a",
   "metadata": {},
   "source": [
    "## Built-in Tool - DuckDuckGo Search"
   ]
  },
  {
   "cell_type": "code",
   "execution_count": 43,
   "id": "1f1e76fc",
   "metadata": {},
   "outputs": [
    {
     "name": "stderr",
     "output_type": "stream",
     "text": [
      "d:\\Pratice Projects\\langchain-learn\\.venv\\Lib\\site-packages\\langchain_community\\utilities\\duckduckgo_search.py:63: RuntimeWarning: This package (`duckduckgo_search`) has been renamed to `ddgs`! Use `pip install ddgs` instead.\n",
      "  with DDGS() as ddgs:\n"
     ]
    }
   ],
   "source": [
    "from langchain_community.tools import DuckDuckGoSearchRun\n",
    "\n",
    "search_tool = DuckDuckGoSearchRun()\n",
    "\n",
    "results = search_tool.invoke(\"top news in pakistan today\")\n"
   ]
  },
  {
   "cell_type": "code",
   "execution_count": 44,
   "id": "d81c3ac3",
   "metadata": {},
   "outputs": [
    {
     "data": {
      "text/plain": [
       "\"Pakistan Latest & Breaking News updates on Politics, Current Affairs, Sports,Technology, Entertainment & Business all at one place.. Pakistan’s most trusted outlet for the breaking, latest and top news across the country and the world. 6 days ago · Stay on top of Pakistan latest developments on the ground with Al Jazeera’s fact-based news, exclusive video footage, photos and updated maps. Geo News provides latest and breaking news. Read the latest Pakistan news, today's breaking news, top news headlines and stay up to date with live coverage on Politics, Current Affairs, Sports, Entertainment, Technology, Business at …\""
      ]
     },
     "execution_count": 44,
     "metadata": {},
     "output_type": "execute_result"
    }
   ],
   "source": [
    "results"
   ]
  },
  {
   "cell_type": "code",
   "execution_count": 45,
   "id": "24d3a707",
   "metadata": {},
   "outputs": [
    {
     "name": "stdout",
     "output_type": "stream",
     "text": [
      "duckduckgo_search\n",
      "A wrapper around DuckDuckGo Search. Useful for when you need to answer questions about current events. Input should be a search query.\n",
      "{'query': {'description': 'search query to look up', 'title': 'Query', 'type': 'string'}}\n"
     ]
    }
   ],
   "source": [
    "print(search_tool.name)\n",
    "print(search_tool.description)\n",
    "print(search_tool.args)\n"
   ]
  },
  {
   "cell_type": "markdown",
   "id": "7a1af624",
   "metadata": {},
   "source": [
    "## Built-in Tool - Shell Tool"
   ]
  },
  {
   "cell_type": "code",
   "execution_count": 46,
   "id": "62a526bd",
   "metadata": {},
   "outputs": [],
   "source": [
    "from langchain_community.tools import ShellTool"
   ]
  },
  {
   "cell_type": "code",
   "execution_count": 47,
   "id": "52d342bb",
   "metadata": {},
   "outputs": [
    {
     "name": "stdout",
     "output_type": "stream",
     "text": [
      "Executing command:\n",
      " dir ..\n",
      " Volume in drive D has no label.\n",
      " Volume Serial Number is DE56-9180\n",
      "\n",
      " Directory of d:\\Pratice Projects\\langchain-learn\n",
      "\n",
      "07/25/2025  12:36 AM    <DIR>          .\n",
      "07/25/2025  12:36 AM    <DIR>          ..\n",
      "07/22/2025  08:26 PM               152 .env\n",
      "07/15/2025  03:29 PM                48 .env.example\n",
      "07/23/2025  06:47 PM               403 .gitignore\n",
      "07/23/2025  06:01 PM    <DIR>          .venv\n",
      "07/23/2025  11:48 AM    <DIR>          langchain-chains\n",
      "07/22/2025  04:48 PM    <DIR>          langchain-document-loaders\n",
      "07/15/2025  04:30 PM    <DIR>          langchain-models\n",
      "07/18/2025  11:25 PM    <DIR>          langchain-output-parsers\n",
      "07/21/2025  10:27 PM    <DIR>          langchain-prompts\n",
      "07/21/2025  11:11 PM    <DIR>          langchain-runnables\n",
      "07/23/2025  12:55 PM    <DIR>          langchain-structured-output\n",
      "07/22/2025  08:22 PM    <DIR>          langchain-text-splitters\n",
      "07/25/2025  04:56 PM    <DIR>          langchain-tools\n",
      "07/24/2025  06:33 PM    <DIR>          langchain-vector-store\n",
      "07/23/2025  07:11 PM             6,288 requirements.txt\n",
      "               4 File(s)          6,891 bytes\n",
      "              13 Dir(s)  45,494,837,248 bytes free\n",
      "\n"
     ]
    },
    {
     "name": "stderr",
     "output_type": "stream",
     "text": [
      "d:\\Pratice Projects\\langchain-learn\\.venv\\Lib\\site-packages\\langchain_community\\tools\\shell\\tool.py:33: UserWarning: The shell tool has no safeguards by default. Use at your own risk.\n",
      "  warnings.warn(\n"
     ]
    }
   ],
   "source": [
    "shell_tool = ShellTool()\n",
    "\n",
    "results = shell_tool.run(\"dir ..\")\n",
    "print(results)"
   ]
  },
  {
   "cell_type": "markdown",
   "id": "a079b05b",
   "metadata": {},
   "source": [
    "## Custom Tools"
   ]
  },
  {
   "cell_type": "code",
   "execution_count": 48,
   "id": "8db3fe01",
   "metadata": {},
   "outputs": [],
   "source": [
    "from langchain_core.tools import tool"
   ]
  },
  {
   "cell_type": "code",
   "execution_count": 49,
   "id": "6bdfd310",
   "metadata": {},
   "outputs": [],
   "source": [
    "# Step 1 - create a function\n",
    "\n",
    "def multiply(a, b):\n",
    "    \"\"\"Multiply two numbers\"\"\"\n",
    "    return a*b"
   ]
  },
  {
   "cell_type": "code",
   "execution_count": 50,
   "id": "0c07e722",
   "metadata": {},
   "outputs": [],
   "source": [
    "# Step 2 - add type hints \n",
    "\n",
    "def multiply(a: int, b:int) -> int:\n",
    "    \"\"\"Multiply two numbers\"\"\"\n",
    "    return a*b"
   ]
  },
  {
   "cell_type": "code",
   "execution_count": 51,
   "id": "0b86f371",
   "metadata": {},
   "outputs": [],
   "source": [
    "# Step 3 - add tool decorator\n",
    "\n",
    "@tool\n",
    "def multiply (a:int ,b:int ) -> int:\n",
    "      \"\"\"Multiply two numbers\"\"\"\n",
    "      return a*b"
   ]
  },
  {
   "cell_type": "code",
   "execution_count": 52,
   "id": "dbe0fb00",
   "metadata": {},
   "outputs": [],
   "source": [
    "result = multiply.invoke({\"a\":3,\"b\":5})"
   ]
  },
  {
   "cell_type": "code",
   "execution_count": 53,
   "id": "65bc27b9",
   "metadata": {},
   "outputs": [
    {
     "name": "stdout",
     "output_type": "stream",
     "text": [
      "15\n"
     ]
    }
   ],
   "source": [
    "print(result)"
   ]
  },
  {
   "cell_type": "code",
   "execution_count": 54,
   "id": "f2e960e5",
   "metadata": {},
   "outputs": [
    {
     "name": "stdout",
     "output_type": "stream",
     "text": [
      "multiply\n",
      "Multiply two numbers\n",
      "{'a': {'title': 'A', 'type': 'integer'}, 'b': {'title': 'B', 'type': 'integer'}}\n"
     ]
    }
   ],
   "source": [
    "print(multiply.name)\n",
    "print(multiply.description)\n",
    "print(multiply.args)"
   ]
  },
  {
   "cell_type": "code",
   "execution_count": 55,
   "id": "da0077ff",
   "metadata": {},
   "outputs": [
    {
     "name": "stdout",
     "output_type": "stream",
     "text": [
      "{'description': 'Multiply two numbers', 'properties': {'a': {'title': 'A', 'type': 'integer'}, 'b': {'title': 'B', 'type': 'integer'}}, 'required': ['a', 'b'], 'title': 'multiply', 'type': 'object'}\n"
     ]
    }
   ],
   "source": [
    "print(multiply.args_schema.model_json_schema())"
   ]
  },
  {
   "cell_type": "markdown",
   "id": "0b29a797",
   "metadata": {},
   "source": [
    "## Method 2 - Using StructuredTool"
   ]
  },
  {
   "cell_type": "code",
   "execution_count": 56,
   "id": "83a8f7aa",
   "metadata": {},
   "outputs": [],
   "source": [
    "from langchain.tools import StructuredTool\n",
    "from pydantic import BaseModel, Field"
   ]
  },
  {
   "cell_type": "code",
   "execution_count": 57,
   "id": "36cca6ba",
   "metadata": {},
   "outputs": [],
   "source": [
    "class MultiplyInput(BaseModel):\n",
    "    a:int = Field(description=\"The first number to add\")\n",
    "    b: int = Field(description=\"The second number to add\")"
   ]
  },
  {
   "cell_type": "code",
   "execution_count": 58,
   "id": "72cd0c99",
   "metadata": {},
   "outputs": [],
   "source": [
    "def multiply_func(a:int,b:int)->int:\n",
    "    return a * b"
   ]
  },
  {
   "cell_type": "code",
   "execution_count": 59,
   "id": "e058b63c",
   "metadata": {},
   "outputs": [],
   "source": [
    "multiply_tool = StructuredTool.from_function(\n",
    "    func=multiply_func,\n",
    "    name=\"multiply\",\n",
    "    description=\"Multiply two numbers\",\n",
    "    args_schema=MultiplyInput\n",
    ")"
   ]
  },
  {
   "cell_type": "code",
   "execution_count": 60,
   "id": "84d61aaf",
   "metadata": {},
   "outputs": [
    {
     "name": "stdout",
     "output_type": "stream",
     "text": [
      "9\n",
      "multiply\n",
      "Multiply two numbers\n",
      "{'a': {'description': 'The first number to add', 'title': 'A', 'type': 'integer'}, 'b': {'description': 'The second number to add', 'title': 'B', 'type': 'integer'}}\n"
     ]
    }
   ],
   "source": [
    "result = multiply_tool.invoke({\"a\":3,\"b\":3})\n",
    "\n",
    "print(result)\n",
    "print(multiply_tool.name)\n",
    "print(multiply_tool.description)\n",
    "print(multiply_tool.args)"
   ]
  },
  {
   "cell_type": "markdown",
   "id": "750859cd",
   "metadata": {},
   "source": [
    "## Method 3 - Using BaseTool Class"
   ]
  },
  {
   "cell_type": "code",
   "execution_count": 61,
   "id": "e00c5d14",
   "metadata": {},
   "outputs": [],
   "source": [
    "from langchain.tools import BaseTool\n",
    "from typing import Type"
   ]
  },
  {
   "cell_type": "code",
   "execution_count": 62,
   "id": "320c09ed",
   "metadata": {},
   "outputs": [],
   "source": [
    "# arg schema using pydantic\n",
    "\n",
    "class MultiplyInput(BaseModel):\n",
    "    a: int = Field(description=\"The first number to add\")\n",
    "    b: int = Field(description=\"The second number to add\")"
   ]
  },
  {
   "cell_type": "code",
   "execution_count": 63,
   "id": "bbe1d471",
   "metadata": {},
   "outputs": [],
   "source": [
    "class MultiplyTool(BaseTool):\n",
    "     name: str = \"multiply\"\n",
    "     description: str = \"Multiply two numbers\"\n",
    "     args_schema:Type[BaseModel] = MultiplyInput \n",
    "\n",
    "     def _run(self,a:int ,b:int)->int:\n",
    "          return a * b"
   ]
  },
  {
   "cell_type": "code",
   "execution_count": 64,
   "id": "cad0930b",
   "metadata": {},
   "outputs": [],
   "source": [
    "multiply_tool = MultiplyTool()"
   ]
  },
  {
   "cell_type": "code",
   "execution_count": 65,
   "id": "85614121",
   "metadata": {},
   "outputs": [
    {
     "name": "stdout",
     "output_type": "stream",
     "text": [
      "9\n",
      "multiply\n",
      "Multiply two numbers\n",
      "{'a': {'description': 'The first number to add', 'title': 'A', 'type': 'integer'}, 'b': {'description': 'The second number to add', 'title': 'B', 'type': 'integer'}}\n"
     ]
    }
   ],
   "source": [
    "result = multiply_tool.invoke({\"a\":3,\"b\":3})\n",
    "\n",
    "print(result)\n",
    "print(multiply_tool.name)\n",
    "print(multiply_tool.description)\n",
    "print(multiply_tool.args)\n"
   ]
  },
  {
   "cell_type": "markdown",
   "id": "9895228c",
   "metadata": {},
   "source": [
    "## Toolkit"
   ]
  },
  {
   "cell_type": "code",
   "execution_count": 66,
   "id": "66ca297f",
   "metadata": {},
   "outputs": [],
   "source": [
    "from langchain_core.tools import tool\n",
    "\n",
    "@tool\n",
    "def add(a:int,b:int )->int:\n",
    "    \"\"\"Add two numbers\"\"\" \n",
    "    return a + b \n",
    "\n",
    "@tool\n",
    "def multiply(a:int,b:int )->int:\n",
    "    \"\"\"Multiply two numbers\"\"\"\n",
    "    return a * b"
   ]
  },
  {
   "cell_type": "code",
   "execution_count": 67,
   "id": "c28b0045",
   "metadata": {},
   "outputs": [],
   "source": [
    "class MathToolkit:\n",
    "    def get_tools(self):\n",
    "        return [add,multiply]"
   ]
  },
  {
   "cell_type": "code",
   "execution_count": 68,
   "id": "2e9acf8f",
   "metadata": {},
   "outputs": [
    {
     "name": "stdout",
     "output_type": "stream",
     "text": [
      "add => Add two numbers\n",
      "multiply => Multiply two numbers\n"
     ]
    }
   ],
   "source": [
    "toolkit = MathToolkit()\n",
    "tools = toolkit.get_tools()\n",
    "\n",
    "for tool in tools:\n",
    "    print(tool.name,\"=>\",tool.description)"
   ]
  }
 ],
 "metadata": {
  "kernelspec": {
   "display_name": ".venv (3.12.7)",
   "language": "python",
   "name": "python3"
  },
  "language_info": {
   "codemirror_mode": {
    "name": "ipython",
    "version": 3
   },
   "file_extension": ".py",
   "mimetype": "text/x-python",
   "name": "python",
   "nbconvert_exporter": "python",
   "pygments_lexer": "ipython3",
   "version": "3.12.7"
  }
 },
 "nbformat": 4,
 "nbformat_minor": 5
}
