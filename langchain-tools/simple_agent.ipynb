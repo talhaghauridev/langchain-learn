{
 "cells": [
  {
   "cell_type": "markdown",
   "id": "8eb24ce5",
   "metadata": {},
   "source": [
    "## Simple ReAct Agent"
   ]
  },
  {
   "cell_type": "code",
   "execution_count": null,
   "id": "411d5c1b",
   "metadata": {},
   "outputs": [
    {
     "data": {
      "text/plain": [
       "True"
      ]
     },
     "execution_count": 31,
     "metadata": {},
     "output_type": "execute_result"
    }
   ],
   "source": [
    "from langchain_google_genai import ChatGoogleGenerativeAI\n",
    "from dotenv import load_dotenv\n",
    "from langchain_core.tools import tool\n",
    "from langchain_community.tools import DuckDuckGoSearchRun\n",
    "import requests\n",
    "\n",
    "WEATHER_API_ACCESS_KEY=\"f92b9d62ba80d554ef60b52ff8ea6991a\"\n",
    "\n",
    "load_dotenv()"
   ]
  },
  {
   "cell_type": "code",
   "execution_count": 32,
   "id": "d6dbcaaf",
   "metadata": {},
   "outputs": [],
   "source": [
    "search_tool = DuckDuckGoSearchRun()"
   ]
  },
  {
   "cell_type": "code",
   "execution_count": 33,
   "id": "95fc6787",
   "metadata": {},
   "outputs": [],
   "source": [
    "@tool\n",
    "def get_weather_date(city:str) -> str:\n",
    "      \"\"\"\n",
    "  This function fetches the current weather data for a given city\n",
    "  \"\"\"\n",
    "      url = f'https://api.weatherstack.com/current?access_key={WEATHER_API_ACCESS_KEY}&query={city}'\n",
    "      response = requests.get(url=url)\n",
    "      return response.json()\n"
   ]
  },
  {
   "cell_type": "code",
   "execution_count": 34,
   "id": "f95b6b84",
   "metadata": {},
   "outputs": [],
   "source": [
    "llm = ChatGoogleGenerativeAI(model=\"gemini-2.0-flash\")"
   ]
  },
  {
   "cell_type": "code",
   "execution_count": 35,
   "id": "caaa39ed",
   "metadata": {},
   "outputs": [],
   "source": [
    "from langchain.agents import create_react_agent, AgentExecutor\n",
    "from langchain import hub"
   ]
  },
  {
   "cell_type": "code",
   "execution_count": 36,
   "id": "b38aa22c",
   "metadata": {},
   "outputs": [
    {
     "name": "stderr",
     "output_type": "stream",
     "text": [
      "d:\\Pratice Projects\\langchain-learn\\.venv\\Lib\\site-packages\\langsmith\\client.py:272: LangSmithMissingAPIKeyWarning: API key must be provided when using hosted LangSmith API\n",
      "  warnings.warn(\n"
     ]
    }
   ],
   "source": [
    "prompt = hub.pull(\"hwchase17/react\")  # pulls the standard ReAct agent prompt"
   ]
  },
  {
   "cell_type": "code",
   "execution_count": 37,
   "id": "ef782a37",
   "metadata": {},
   "outputs": [],
   "source": [
    "agent = create_react_agent(\n",
    "    llm=llm,\n",
    "    tools=[search_tool,get_weather_date],\n",
    "    prompt=prompt\n",
    ")"
   ]
  },
  {
   "cell_type": "code",
   "execution_count": 38,
   "id": "fa3a063d",
   "metadata": {},
   "outputs": [],
   "source": [
    "agent_executor = AgentExecutor(\n",
    "    agent=agent,\n",
    "    tools=[search_tool,get_weather_date],\n",
    "    verbose=True\n",
    ")"
   ]
  },
  {
   "cell_type": "code",
   "execution_count": 39,
   "id": "5f5c001a",
   "metadata": {},
   "outputs": [
    {
     "name": "stdout",
     "output_type": "stream",
     "text": [
      "\n",
      "\n",
      "\u001b[1m> Entering new AgentExecutor chain...\u001b[0m\n",
      "\u001b[32;1m\u001b[1;3mI need to first find the capital of Pakistan and then find its current weather conditions.\n",
      "Action: duckduckgo_search\n",
      "Action Input: capital of Pakistan\u001b[0m"
     ]
    },
    {
     "name": "stderr",
     "output_type": "stream",
     "text": [
      "d:\\Pratice Projects\\langchain-learn\\.venv\\Lib\\site-packages\\langchain_community\\utilities\\duckduckgo_search.py:63: RuntimeWarning: This package (`duckduckgo_search`) has been renamed to `ddgs`! Use `pip install ddgs` instead.\n",
      "  with DDGS() as ddgs:\n"
     ]
    },
    {
     "name": "stdout",
     "output_type": "stream",
     "text": [
      "\u001b[36;1m\u001b[1;3mJun 27, 2019 · Here's what is human capital. There's nothing more positive in economics than investing in people. But how do you measure its effectiveness? May 4, 2014 · 资本（Invested Capital ，就是题主公式里面的Capital）= 债权（Debt，即付息债务） +股权（Equity）= 固定资产（Fixed Asset） + 净运营资本（Net Working Capital） 基本上也解释 … Feb 2, 2018 · Buenas en el proceso de una compra de un equipo me puntualizan como una de las partidas: -capital spares A que se refiere exactamente?? Mar 10, 2007 · A. Capital de trabajo es la diferencia entre los activos circulantes o corrientes menos los pasivos circulantes o corrientes (current assets minus current liabilities). Es decir, los activos … Oct 17, 2024 · Proponents say a capital markets union could help Europe build the innovative companies and infrastructure necessary to compete in a fragmenting global economy.\u001b[0m\u001b[32;1m\u001b[1;3mThe search results are not providing a direct answer. I need to reformulate the search query.\n",
      "Action: duckduckgo_search\n",
      "Action Input: what is the capital of Pakistan\u001b[0m"
     ]
    },
    {
     "name": "stderr",
     "output_type": "stream",
     "text": [
      "d:\\Pratice Projects\\langchain-learn\\.venv\\Lib\\site-packages\\langchain_community\\utilities\\duckduckgo_search.py:63: RuntimeWarning: This package (`duckduckgo_search`) has been renamed to `ddgs`! Use `pip install ddgs` instead.\n",
      "  with DDGS() as ddgs:\n"
     ]
    },
    {
     "name": "stdout",
     "output_type": "stream",
     "text": [
      "\u001b[36;1m\u001b[1;3mIslamabad has attracted people from all over Pakistan, making it one of the most cosmopolitan and urbanised cities of Pakistan. As the capital city it has hosted numerous important meetings, such … Jul 30, 2019 · The capital city of Pakistan is Islamabad, which is located in the federal Islamabad Capital Territory. The city became the official capital on August 14, 1967, which was 20 years … Jul 1, 2025 · Islamabad, city, capital of Pakistan, on the Potwar Plateau, 9 miles (14 km) northeast of Rawalpindi, the former interim capital. The city’s site was chosen in 1959 after Karachi was found … Pakistan has 4 provinces: Punjab (Lahore), Sindh (Karachi), KPK (Peshawar), Balochistan (Quetta); 2 territories, and its capital, Islamabad. Islamabad is the capital of Pakistan. Designed by Greek architect Constantinos Apostolou Doxiadis, Islamabad is known for its high standard of living, safety, and abundant greenery.\u001b[0m\u001b[32;1m\u001b[1;3mI have found the capital of Pakistan. Now I need to find its current weather conditions.\n",
      "Action: get_weather_date\n",
      "Action Input: Islamabad\u001b[0m\u001b[33;1m\u001b[1;3m{'request': {'type': 'City', 'query': 'Islamabad, Pakistan', 'language': 'en', 'unit': 'm'}, 'location': {'name': 'Islamabad', 'country': 'Pakistan', 'region': 'Islamabad', 'lat': '33.700', 'lon': '73.167', 'timezone_id': 'Asia/Karachi', 'localtime': '2025-07-26 16:50', 'localtime_epoch': 1753548600, 'utc_offset': '5.0'}, 'current': {'observation_time': '11:50 AM', 'temperature': 36, 'weather_code': 113, 'weather_icons': ['https://cdn.worldweatheronline.com/images/wsymbols01_png_64/wsymbol_0001_sunny.png'], 'weather_descriptions': ['Sunny'], 'astro': {'sunrise': '05:15 AM', 'sunset': '07:12 PM', 'moonrise': '06:34 AM', 'moonset': '08:27 PM', 'moon_phase': 'Waxing Crescent', 'moon_illumination': 2}, 'air_quality': {'co': '1470.75', 'no2': '12.58', 'o3': '211', 'so2': '35.335', 'pm2_5': '74.74', 'pm10': '109.15', 'us-epa-index': '4', 'gb-defra-index': '4'}, 'wind_speed': 4, 'wind_degree': 188, 'wind_dir': 'S', 'pressure': 995, 'precip': 0, 'humidity': 41, 'cloudcover': 8, 'feelslike': 41, 'uv_index': 2, 'visibility': 10, 'is_day': 'yes'}}\u001b[0m\u001b[32;1m\u001b[1;3mI now have the capital of Pakistan and its current weather conditions.\n",
      "Final Answer: The capital of Pakistan is Islamabad. The current weather in Islamabad is sunny with a temperature of 36 degrees Celsius.\u001b[0m\n",
      "\n",
      "\u001b[1m> Finished chain.\u001b[0m\n",
      "{'input': \"Find the capital of Pakistan, then find it's current weather condition\", 'output': 'The capital of Pakistan is Islamabad. The current weather in Islamabad is sunny with a temperature of 36 degrees Celsius.'}\n"
     ]
    }
   ],
   "source": [
    "response = agent_executor.invoke({\"input\": \"Find the capital of Pakistan, then find it's current weather condition\"})\n",
    "print(response)"
   ]
  },
  {
   "cell_type": "code",
   "execution_count": 40,
   "id": "44c7c72c",
   "metadata": {},
   "outputs": [
    {
     "data": {
      "text/plain": [
       "'The capital of Pakistan is Islamabad. The current weather in Islamabad is sunny with a temperature of 36 degrees Celsius.'"
      ]
     },
     "execution_count": 40,
     "metadata": {},
     "output_type": "execute_result"
    }
   ],
   "source": [
    "response['output']"
   ]
  }
 ],
 "metadata": {
  "kernelspec": {
   "display_name": ".venv (3.12.7)",
   "language": "python",
   "name": "python3"
  },
  "language_info": {
   "codemirror_mode": {
    "name": "ipython",
    "version": 3
   },
   "file_extension": ".py",
   "mimetype": "text/x-python",
   "name": "python",
   "nbconvert_exporter": "python",
   "pygments_lexer": "ipython3",
   "version": "3.12.7"
  }
 },
 "nbformat": 4,
 "nbformat_minor": 5
}
