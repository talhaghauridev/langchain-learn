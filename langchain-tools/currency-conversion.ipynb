{
 "cells": [
  {
   "cell_type": "markdown",
   "id": "331f7b8c",
   "metadata": {},
   "source": [
    "## Currency Conversion"
   ]
  },
  {
   "cell_type": "code",
   "execution_count": null,
   "id": "690b230e",
   "metadata": {},
   "outputs": [],
   "source": [
    "from langchain_google_genai import ChatGoogleGenerativeAI\n",
    "from langchain_core.tools import tool\n",
    "from langchain_core.messages import HumanMessage\n",
    "from langchain_core.tools import InjectedToolArg\n",
    "from typing import Annotated\n",
    "import requests"
   ]
  }
 ],
 "metadata": {
  "kernelspec": {
   "display_name": ".venv (3.12.7)",
   "language": "python",
   "name": "python3"
  },
  "language_info": {
   "name": "python",
   "version": "3.12.7"
  }
 },
 "nbformat": 4,
 "nbformat_minor": 5
}
